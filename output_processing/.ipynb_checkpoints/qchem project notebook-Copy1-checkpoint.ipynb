{
 "cells": [
  {
   "cell_type": "code",
   "execution_count": 10,
   "metadata": {},
   "outputs": [],
   "source": [
    "import os\n",
    "from IPython.display import display, Math, Latex\n",
    "import itertools\n",
    "import pickle\n",
    "import sympy as sp\n",
    "import numpy as np\n",
    "import pandas as pd\n",
    "from sympy import init_printing\n",
    "from sympy.functions import conjugate\n",
    "from sympy.physics.hydrogen import R_nl\n",
    "from sympy.physics.hydrogen import E_nl\n",
    "from sympy.functions.special.spherical_harmonics import Ynm\n",
    "import scipy.constants as constants\n",
    "init_printing()\n",
    "\n",
    "xyz_path = os.path.normpath(\"C:\\\\Users\\\\Main\\\\Desktop\\\\NB opt dalton.xyz\")\n",
    "xyz_path_output = os.path.normpath(\"C:\\\\Users\\\\Main\\\\Desktop\\\\NB opt dalton rotated.xyz\")"
   ]
  },
  {
   "cell_type": "code",
   "execution_count": 4,
   "metadata": {},
   "outputs": [],
   "source": [
    "# Functions\n",
    "def parse_xyz(xyz_file_path):\n",
    "    \"\"\"\n",
    "    Parses molecule xyz files using pandas\n",
    "    \"\"\"\n",
    "    return pd.read_csv(xyz_file_path, delim_whitespace=True, skiprows=2, header=None, names=[\"atom\", \"x\", \"y\", \"z\"])\n",
    "\n",
    "def write_mol_to_xyz(xyz_file_path, mol_df):\n",
    "    \"\"\"\n",
    "    writes the df molecule to an xyz file\n",
    "    \"\"\"\n",
    "    molecule = mol_df.to_dict(\"records\")\n",
    "    atom_number = len(molecule)\n",
    "    \n",
    "    with open(xyz_file_path, \"w\") as f:\n",
    "        f.write(str(atom_number) + '\\n')\n",
    "        f.write('\\n') #required comment line\n",
    "        for atom in molecule:\n",
    "            to_write = \"{0} {1} {2} {3}\\n\".format(atom['atom'], atom['x'], atom['y'], atom['z'])\n",
    "            f.write(to_write)\n",
    "            \n",
    "def write_mol_to_dalton_mol(dal_mol_file_path, mol_df, Basis=\"STO-3G\", comment=\"\", units=\"Angstrom\"):\n",
    "    \"\"\"\n",
    "    writes the df molecule to a dalton style .mol file\n",
    "    \"\"\"\n",
    "    raise NotImplementedError\n",
    "    molecule = mol_df.to_dict(\"records\")\n",
    "    atom_number = len(molecule)\n",
    "    # for \n",
    "    \n",
    "    with open(xyz_file_path, \"w\") as f:\n",
    "        f.write(str(atom_number) + '\\n')\n",
    "        f.write('\\n') #required comment line\n",
    "        for atom in molecule:\n",
    "            to_write = \"{0} {1} {2} {3}\\n\".format(atom['atom'], atom['x'], atom['y'], atom['z'])\n",
    "            f.write(to_write)\n",
    "    \n",
    "def rotation_matrix(axis, theta):\n",
    "    \"\"\"\n",
    "    Return the rotation matrix associated with counterclockwise rotation about\n",
    "    the given axis by theta radians.\n",
    "    https://stackoverflow.com/questions/6802577/rotation-of-3d-vector\n",
    "    https://en.wikipedia.org/wiki/Euler%E2%80%93Rodrigues_formula\n",
    "    \"\"\"\n",
    "    axis = np.asarray(axis)\n",
    "    axis = axis / np.sqrt(np.dot(axis, axis))\n",
    "    a = np.cos(theta / 2.0)\n",
    "    b, c, d = -axis * np.sin(theta / 2.0)\n",
    "    aa, bb, cc, dd = a * a, b * b, c * c, d * d\n",
    "    bc, ad, ac, ab, bd, cd = b * c, a * d, a * c, a * b, b * d, c * d\n",
    "    return np.array([[aa + bb - cc - dd, 2 * (bc + ad), 2 * (bd - ac)],\n",
    "                     [2 * (bc - ad), aa + cc - bb - dd, 2 * (cd + ab)],\n",
    "                     [2 * (bd + ac), 2 * (cd - ab), aa + dd - bb - cc]])\n",
    "\n",
    "def rotate_mol(mol_df, x_roll, y_pitch, z_yaw):\n",
    "    \"\"\"\n",
    "    use rotation matrices to rotate a mol about x axis, y axis, and z axis\n",
    "    \"\"\"\n",
    "    x_axis = np.array([1,0,0])\n",
    "    y_axis = np.array([0,1,0])\n",
    "    z_axis = np.array([0,0,1])\n",
    "    \n",
    "    x_rot = rotation_matrix(x_axis, x_roll)\n",
    "    y_rot = rotation_matrix(y_axis, y_pitch)\n",
    "    z_rot = rotation_matrix(z_axis, z_yaw)\n",
    "    \n",
    "    molecule = mol_df.copy(deep=True).to_dict(\"records\")\n",
    "    for atom in molecule:\n",
    "        position = np.array([atom['x'], atom['y'], atom['z']])\n",
    "        new_position = np.matmul(z_rot, np.matmul(y_rot, np.matmul(x_rot, position)))\n",
    "        atom['x'], atom['y'], atom['z'] = new_position\n",
    "    \n",
    "    return pd.DataFrame(molecule)\n",
    "\n",
    "def scale_mol()"
   ]
  },
  {
   "cell_type": "code",
   "execution_count": 5,
   "metadata": {},
   "outputs": [
    {
     "ename": "NameError",
     "evalue": "name 'NB_mol_copy' is not defined",
     "output_type": "error",
     "traceback": [
      "\u001b[1;31m---------------------------------------------------------------------------\u001b[0m",
      "\u001b[1;31mNameError\u001b[0m                                 Traceback (most recent call last)",
      "\u001b[1;32m<ipython-input-5-96dbdb0379b9>\u001b[0m in \u001b[0;36m<module>\u001b[1;34m()\u001b[0m\n\u001b[0;32m      1\u001b[0m \u001b[0mNB_mol\u001b[0m \u001b[1;33m=\u001b[0m \u001b[0mparse_xyz\u001b[0m\u001b[1;33m(\u001b[0m\u001b[0mxyz_path\u001b[0m\u001b[1;33m)\u001b[0m\u001b[1;33m\u001b[0m\u001b[0m\n\u001b[1;32m----> 2\u001b[1;33m \u001b[0mNB_rotated\u001b[0m \u001b[1;33m=\u001b[0m \u001b[0mrotate_mol\u001b[0m\u001b[1;33m(\u001b[0m\u001b[0mNB_mol_copy\u001b[0m\u001b[1;33m,\u001b[0m \u001b[1;36m1\u001b[0m\u001b[1;33m,\u001b[0m \u001b[1;36m1\u001b[0m\u001b[1;33m,\u001b[0m \u001b[1;36m1\u001b[0m\u001b[1;33m)\u001b[0m\u001b[1;33m\u001b[0m\u001b[0m\n\u001b[0m\u001b[0;32m      3\u001b[0m \u001b[0mwrite_mol_to_xyz\u001b[0m\u001b[1;33m(\u001b[0m\u001b[0mxyz_path_output\u001b[0m\u001b[1;33m,\u001b[0m \u001b[0mNB_rotated\u001b[0m\u001b[1;33m)\u001b[0m\u001b[1;33m\u001b[0m\u001b[0m\n",
      "\u001b[1;31mNameError\u001b[0m: name 'NB_mol_copy' is not defined"
     ]
    }
   ],
   "source": [
    "NB_mol = parse_xyz(xyz_path)\n",
    "NB_rotated = rotate_mol(NB_mol_copy, 1, 1, 1)\n",
    "write_mol_to_xyz(xyz_path_output, NB_rotated)"
   ]
  },
  {
   "cell_type": "code",
   "execution_count": 6,
   "metadata": {},
   "outputs": [
    {
     "data": {
      "text/html": [
       "<div>\n",
       "<style scoped>\n",
       "    .dataframe tbody tr th:only-of-type {\n",
       "        vertical-align: middle;\n",
       "    }\n",
       "\n",
       "    .dataframe tbody tr th {\n",
       "        vertical-align: top;\n",
       "    }\n",
       "\n",
       "    .dataframe thead th {\n",
       "        text-align: right;\n",
       "    }\n",
       "</style>\n",
       "<table border=\"1\" class=\"dataframe\">\n",
       "  <thead>\n",
       "    <tr style=\"text-align: right;\">\n",
       "      <th></th>\n",
       "      <th>atom</th>\n",
       "      <th>x</th>\n",
       "      <th>y</th>\n",
       "      <th>z</th>\n",
       "    </tr>\n",
       "  </thead>\n",
       "  <tbody>\n",
       "    <tr>\n",
       "      <th>0</th>\n",
       "      <td>C</td>\n",
       "      <td>-0.019478</td>\n",
       "      <td>-1.224480</td>\n",
       "      <td>0.475289</td>\n",
       "    </tr>\n",
       "    <tr>\n",
       "      <th>1</th>\n",
       "      <td>C</td>\n",
       "      <td>-0.025731</td>\n",
       "      <td>-1.256064</td>\n",
       "      <td>1.866305</td>\n",
       "    </tr>\n",
       "    <tr>\n",
       "      <th>2</th>\n",
       "      <td>C</td>\n",
       "      <td>-0.011504</td>\n",
       "      <td>-0.066316</td>\n",
       "      <td>2.594842</td>\n",
       "    </tr>\n",
       "    <tr>\n",
       "      <th>3</th>\n",
       "      <td>C</td>\n",
       "      <td>0.009039</td>\n",
       "      <td>1.162946</td>\n",
       "      <td>1.935297</td>\n",
       "    </tr>\n",
       "    <tr>\n",
       "      <th>4</th>\n",
       "      <td>C</td>\n",
       "      <td>0.015473</td>\n",
       "      <td>1.210460</td>\n",
       "      <td>0.544749</td>\n",
       "    </tr>\n",
       "    <tr>\n",
       "      <th>5</th>\n",
       "      <td>C</td>\n",
       "      <td>0.001084</td>\n",
       "      <td>0.012098</td>\n",
       "      <td>-0.161770</td>\n",
       "    </tr>\n",
       "  </tbody>\n",
       "</table>\n",
       "</div>"
      ],
      "text/plain": [
       "  atom         x         y         z\n",
       "0    C -0.019478 -1.224480  0.475289\n",
       "1    C -0.025731 -1.256064  1.866305\n",
       "2    C -0.011504 -0.066316  2.594842\n",
       "3    C  0.009039  1.162946  1.935297\n",
       "4    C  0.015473  1.210460  0.544749\n",
       "5    C  0.001084  0.012098 -0.161770"
      ]
     },
     "metadata": {},
     "output_type": "display_data"
    },
    {
     "data": {
      "text/html": [
       "<div>\n",
       "<style scoped>\n",
       "    .dataframe tbody tr th:only-of-type {\n",
       "        vertical-align: middle;\n",
       "    }\n",
       "\n",
       "    .dataframe tbody tr th {\n",
       "        vertical-align: top;\n",
       "    }\n",
       "\n",
       "    .dataframe thead th {\n",
       "        text-align: right;\n",
       "    }\n",
       "</style>\n",
       "<table border=\"1\" class=\"dataframe\">\n",
       "  <thead>\n",
       "    <tr style=\"text-align: right;\">\n",
       "      <th></th>\n",
       "      <th>atom</th>\n",
       "      <th>x</th>\n",
       "      <th>y</th>\n",
       "      <th>z</th>\n",
       "    </tr>\n",
       "  </thead>\n",
       "  <tbody>\n",
       "    <tr>\n",
       "      <th>6</th>\n",
       "      <td>H</td>\n",
       "      <td>-0.041784</td>\n",
       "      <td>-2.210813</td>\n",
       "      <td>2.380873</td>\n",
       "    </tr>\n",
       "    <tr>\n",
       "      <th>7</th>\n",
       "      <td>H</td>\n",
       "      <td>-0.016411</td>\n",
       "      <td>-0.097188</td>\n",
       "      <td>3.679611</td>\n",
       "    </tr>\n",
       "    <tr>\n",
       "      <th>8</th>\n",
       "      <td>H</td>\n",
       "      <td>0.020012</td>\n",
       "      <td>2.086893</td>\n",
       "      <td>2.503442</td>\n",
       "    </tr>\n",
       "    <tr>\n",
       "      <th>9</th>\n",
       "      <td>H</td>\n",
       "      <td>0.031301</td>\n",
       "      <td>2.147822</td>\n",
       "      <td>0.004813</td>\n",
       "    </tr>\n",
       "    <tr>\n",
       "      <th>10</th>\n",
       "      <td>H</td>\n",
       "      <td>-0.030088</td>\n",
       "      <td>-2.129655</td>\n",
       "      <td>-0.117139</td>\n",
       "    </tr>\n",
       "  </tbody>\n",
       "</table>\n",
       "</div>"
      ],
      "text/plain": [
       "   atom         x         y         z\n",
       "6     H -0.041784 -2.210813  2.380873\n",
       "7     H -0.016411 -0.097188  3.679611\n",
       "8     H  0.020012  2.086893  2.503442\n",
       "9     H  0.031301  2.147822  0.004813\n",
       "10    H -0.030088 -2.129655 -0.117139"
      ]
     },
     "metadata": {},
     "output_type": "display_data"
    },
    {
     "data": {
      "text/html": [
       "<div>\n",
       "<style scoped>\n",
       "    .dataframe tbody tr th:only-of-type {\n",
       "        vertical-align: middle;\n",
       "    }\n",
       "\n",
       "    .dataframe tbody tr th {\n",
       "        vertical-align: top;\n",
       "    }\n",
       "\n",
       "    .dataframe thead th {\n",
       "        text-align: right;\n",
       "    }\n",
       "</style>\n",
       "<table border=\"1\" class=\"dataframe\">\n",
       "  <thead>\n",
       "    <tr style=\"text-align: right;\">\n",
       "      <th></th>\n",
       "      <th>atom</th>\n",
       "      <th>x</th>\n",
       "      <th>y</th>\n",
       "      <th>z</th>\n",
       "    </tr>\n",
       "  </thead>\n",
       "  <tbody>\n",
       "    <tr>\n",
       "      <th>11</th>\n",
       "      <td>N</td>\n",
       "      <td>0.007838</td>\n",
       "      <td>0.054236</td>\n",
       "      <td>-1.642221</td>\n",
       "    </tr>\n",
       "  </tbody>\n",
       "</table>\n",
       "</div>"
      ],
      "text/plain": [
       "   atom         x         y         z\n",
       "11    N  0.007838  0.054236 -1.642221"
      ]
     },
     "metadata": {},
     "output_type": "display_data"
    },
    {
     "data": {
      "text/html": [
       "<div>\n",
       "<style scoped>\n",
       "    .dataframe tbody tr th:only-of-type {\n",
       "        vertical-align: middle;\n",
       "    }\n",
       "\n",
       "    .dataframe tbody tr th {\n",
       "        vertical-align: top;\n",
       "    }\n",
       "\n",
       "    .dataframe thead th {\n",
       "        text-align: right;\n",
       "    }\n",
       "</style>\n",
       "<table border=\"1\" class=\"dataframe\">\n",
       "  <thead>\n",
       "    <tr style=\"text-align: right;\">\n",
       "      <th></th>\n",
       "      <th>atom</th>\n",
       "      <th>x</th>\n",
       "      <th>y</th>\n",
       "      <th>z</th>\n",
       "    </tr>\n",
       "  </thead>\n",
       "  <tbody>\n",
       "    <tr>\n",
       "      <th>12</th>\n",
       "      <td>O</td>\n",
       "      <td>-0.004735</td>\n",
       "      <td>-1.013669</td>\n",
       "      <td>-2.239520</td>\n",
       "    </tr>\n",
       "    <tr>\n",
       "      <th>13</th>\n",
       "      <td>O</td>\n",
       "      <td>0.025573</td>\n",
       "      <td>1.154372</td>\n",
       "      <td>-2.177701</td>\n",
       "    </tr>\n",
       "  </tbody>\n",
       "</table>\n",
       "</div>"
      ],
      "text/plain": [
       "   atom         x         y         z\n",
       "12    O -0.004735 -1.013669 -2.239520\n",
       "13    O  0.025573  1.154372 -2.177701"
      ]
     },
     "metadata": {},
     "output_type": "display_data"
    }
   ],
   "source": [
    "atomic_symbols = NB_mol.atom.unique()\n",
    "for atomic_symbol in atomic_symbols:\n",
    "    display(NB_mol.groupby(\"atom\").get_group(atomic_symbol))"
   ]
  },
  {
   "cell_type": "code",
   "execution_count": 7,
   "metadata": {},
   "outputs": [],
   "source": [
    "chi3_conversion_factor = constants.physical_constants[\"atomic unit of 2nd hyperpolarizability\"][0]"
   ]
  },
  {
   "cell_type": "code",
   "execution_count": 8,
   "metadata": {},
   "outputs": [],
   "source": [
    "x = np.array([30.9969\n",
    "    ,42.6418\n",
    "    ,42.6418\n",
    "    ,42.6418\n",
    "    ,1.1058\n",
    "    ,1.1058\n",
    "    ,1.1058\n",
    "    ,42.6418\n",
    "    ,42.6418\n",
    "    ,42.6418\n",
    "    ,1832.7619\n",
    "    ,-41.9259\n",
    "    ,-41.9259\n",
    "    ,-41.9259\n",
    "    ,1.1058\n",
    "    ,1.1058\n",
    "    ,1.1058\n",
    "    ,-41.9259\n",
    "    ,-41.9259\n",
    "    ,-41.9259\n",
    "    ,25405.3167])\n",
    "\n",
    "labels = [\"(X;XXX)\",\n",
    "\"(X;XYY)\",\n",
    "\"(X;YYX)\",\n",
    "\"(X;YXY)\",\n",
    "\"(X;XZZ)\",\n",
    "\"(X;ZZX)\",\n",
    "\"(X;ZXZ)\",\n",
    "\"(Y;YXX)\",\n",
    "\"(Y;XXY)\",\n",
    "\"(Y;XYX)\",\n",
    "\"(Y;YYY)\",\n",
    "\"(Y;YZZ)\",\n",
    "\"(Y;ZZY)\",\n",
    "\"(Y;ZYZ)\",\n",
    "\"(Z;ZXX)\",\n",
    "\"(Z;XXZ)\",\n",
    "\"(Z;XZX)\",\n",
    "\"(Z;ZYY)\",\n",
    "\"(Z;YYZ)\",\n",
    "\"(Z;YZY)\",\n",
    "\"(Z;ZZZ)\"]\n",
    "\n",
    "#Nitrobenzene constants\n",
    "\n",
    "n0 = 1.5562\n",
    "\n"
   ]
  },
  {
   "cell_type": "code",
   "execution_count": 9,
   "metadata": {},
   "outputs": [
    {
     "data": {
      "text/plain": [
       "'gamma(X;XXX) = 1.932774529567365e-63'"
      ]
     },
     "metadata": {},
     "output_type": "display_data"
    },
    {
     "data": {
      "text/plain": [
       "'gamma(X;XYY) = 2.65887830508553e-63'"
      ]
     },
     "metadata": {},
     "output_type": "display_data"
    },
    {
     "data": {
      "text/plain": [
       "'gamma(X;YYX) = 2.65887830508553e-63'"
      ]
     },
     "metadata": {},
     "output_type": "display_data"
    },
    {
     "data": {
      "text/plain": [
       "'gamma(X;YXY) = 2.65887830508553e-63'"
      ]
     },
     "metadata": {},
     "output_type": "display_data"
    },
    {
     "data": {
      "text/plain": [
       "'gamma(X;XZZ) = 6.895083297992999e-65'"
      ]
     },
     "metadata": {},
     "output_type": "display_data"
    },
    {
     "data": {
      "text/plain": [
       "'gamma(X;ZZX) = 6.895083297992999e-65'"
      ]
     },
     "metadata": {},
     "output_type": "display_data"
    },
    {
     "data": {
      "text/plain": [
       "'gamma(X;ZXZ) = 6.895083297992999e-65'"
      ]
     },
     "metadata": {},
     "output_type": "display_data"
    },
    {
     "data": {
      "text/plain": [
       "'gamma(Y;YXX) = 2.65887830508553e-63'"
      ]
     },
     "metadata": {},
     "output_type": "display_data"
    },
    {
     "data": {
      "text/plain": [
       "'gamma(Y;XXY) = 2.65887830508553e-63'"
      ]
     },
     "metadata": {},
     "output_type": "display_data"
    },
    {
     "data": {
      "text/plain": [
       "'gamma(Y;XYX) = 2.65887830508553e-63'"
      ]
     },
     "metadata": {},
     "output_type": "display_data"
    },
    {
     "data": {
      "text/plain": [
       "'gamma(Y;YYY) = 1.142796705180676e-61'"
      ]
     },
     "metadata": {},
     "output_type": "display_data"
    },
    {
     "data": {
      "text/plain": [
       "'gamma(Y;YZZ) = -2.6142392190570145e-63'"
      ]
     },
     "metadata": {},
     "output_type": "display_data"
    },
    {
     "data": {
      "text/plain": [
       "'gamma(Y;ZZY) = -2.6142392190570145e-63'"
      ]
     },
     "metadata": {},
     "output_type": "display_data"
    },
    {
     "data": {
      "text/plain": [
       "'gamma(Y;ZYZ) = -2.6142392190570145e-63'"
      ]
     },
     "metadata": {},
     "output_type": "display_data"
    },
    {
     "data": {
      "text/plain": [
       "'gamma(Z;ZXX) = 6.895083297992999e-65'"
      ]
     },
     "metadata": {},
     "output_type": "display_data"
    },
    {
     "data": {
      "text/plain": [
       "'gamma(Z;XXZ) = 6.895083297992999e-65'"
      ]
     },
     "metadata": {},
     "output_type": "display_data"
    },
    {
     "data": {
      "text/plain": [
       "'gamma(Z;XZX) = 6.895083297992999e-65'"
      ]
     },
     "metadata": {},
     "output_type": "display_data"
    },
    {
     "data": {
      "text/plain": [
       "'gamma(Z;ZYY) = -2.6142392190570145e-63'"
      ]
     },
     "metadata": {},
     "output_type": "display_data"
    },
    {
     "data": {
      "text/plain": [
       "'gamma(Z;YYZ) = -2.6142392190570145e-63'"
      ]
     },
     "metadata": {},
     "output_type": "display_data"
    },
    {
     "data": {
      "text/plain": [
       "'gamma(Z;YZY) = -2.6142392190570145e-63'"
      ]
     },
     "metadata": {},
     "output_type": "display_data"
    },
    {
     "data": {
      "text/plain": [
       "'gamma(Z;ZZZ) = 1.584118058042979e-60'"
      ]
     },
     "metadata": {},
     "output_type": "display_data"
    }
   ],
   "source": [
    "for label, value in zip(labels, x*chi3_conversion_factor):\n",
    "    display(\"gamma{0} = {1}\".format(label, value))"
   ]
  },
  {
   "cell_type": "code",
   "execution_count": null,
   "metadata": {},
   "outputs": [],
   "source": []
  }
 ],
 "metadata": {
  "kernelspec": {
   "display_name": "Python 3",
   "language": "python",
   "name": "python3"
  },
  "language_info": {
   "codemirror_mode": {
    "name": "ipython",
    "version": 3
   },
   "file_extension": ".py",
   "mimetype": "text/x-python",
   "name": "python",
   "nbconvert_exporter": "python",
   "pygments_lexer": "ipython3",
   "version": "3.6.5"
  }
 },
 "nbformat": 4,
 "nbformat_minor": 2
}
